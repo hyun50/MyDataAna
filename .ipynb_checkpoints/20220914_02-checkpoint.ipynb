{
 "cells": [
  {
   "cell_type": "code",
   "execution_count": 2,
   "metadata": {
    "_cell_guid": "b1076dfc-b9ad-4769-8c92-a6c4dae69d19",
    "_uuid": "8f2839f25d086af736a60e9eeb907d3b93b6e0e5",
    "execution": {
     "iopub.execute_input": "2022-09-13T02:31:11.141184Z",
     "iopub.status.busy": "2022-09-13T02:31:11.139793Z",
     "iopub.status.idle": "2022-09-13T02:31:11.148851Z",
     "shell.execute_reply": "2022-09-13T02:31:11.147418Z",
     "shell.execute_reply.started": "2022-09-13T02:31:11.141138Z"
    }
   },
   "outputs": [],
   "source": [
    "import numpy as np # linear algebra\n",
    "import pandas as pd # data processing, CSV file I/O (e.g. pd.read_csv)\n",
    "\n",
    "import os\n",
    "for dirname, _, filenames in os.walk('/kaggle/input'):\n",
    "    for filename in filenames:\n",
    "        print(os.path.join(dirname, filename))"
   ]
  },
  {
   "cell_type": "code",
   "execution_count": 1,
   "metadata": {
    "execution": {
     "iopub.execute_input": "2022-09-13T02:38:29.219726Z",
     "iopub.status.busy": "2022-09-13T02:38:29.219313Z",
     "iopub.status.idle": "2022-09-13T02:38:29.275157Z",
     "shell.execute_reply": "2022-09-13T02:38:29.273777Z",
     "shell.execute_reply.started": "2022-09-13T02:38:29.219694Z"
    }
   },
   "outputs": [
    {
     "ename": "NameError",
     "evalue": "name 'pd' is not defined",
     "output_type": "error",
     "traceback": [
      "\u001b[1;31m---------------------------------------------------------------------------\u001b[0m",
      "\u001b[1;31mNameError\u001b[0m                                 Traceback (most recent call last)",
      "Input \u001b[1;32mIn [1]\u001b[0m, in \u001b[0;36m<cell line: 1>\u001b[1;34m()\u001b[0m\n\u001b[1;32m----> 1\u001b[0m train \u001b[38;5;241m=\u001b[39m \u001b[43mpd\u001b[49m\u001b[38;5;241m.\u001b[39mread_csv(\u001b[38;5;124m\"\u001b[39m\u001b[38;5;124m/kaggle/input/titanic/train.csv\u001b[39m\u001b[38;5;124m\"\u001b[39m)\n\u001b[0;32m      2\u001b[0m train\u001b[38;5;241m.\u001b[39minfo()\n",
      "\u001b[1;31mNameError\u001b[0m: name 'pd' is not defined"
     ]
    }
   ],
   "source": [
    "train = pd.read_csv(\"/kaggle/input/titanic/train.csv\")\n",
    "train.info()"
   ]
  },
  {
   "cell_type": "code",
   "execution_count": 4,
   "metadata": {
    "execution": {
     "iopub.execute_input": "2022-09-13T02:44:51.853626Z",
     "iopub.status.busy": "2022-09-13T02:44:51.852875Z",
     "iopub.status.idle": "2022-09-13T02:44:51.878165Z",
     "shell.execute_reply": "2022-09-13T02:44:51.877318Z",
     "shell.execute_reply.started": "2022-09-13T02:44:51.853577Z"
    }
   },
   "outputs": [],
   "source": [
    "train.head()"
   ]
  },
  {
   "cell_type": "code",
   "execution_count": 14,
   "metadata": {
    "execution": {
     "iopub.execute_input": "2022-09-13T03:07:13.106638Z",
     "iopub.status.busy": "2022-09-13T03:07:13.106157Z",
     "iopub.status.idle": "2022-09-13T03:07:13.381787Z",
     "shell.execute_reply": "2022-09-13T03:07:13.380700Z",
     "shell.execute_reply.started": "2022-09-13T03:07:13.106601Z"
    }
   },
   "outputs": [],
   "source": [
    "import numpy as np\n",
    "\n",
    "plt.plot(train['Pclass'], 'o', linestyle = \"--\")"
   ]
  },
  {
   "cell_type": "code",
   "execution_count": 17,
   "metadata": {
    "execution": {
     "iopub.execute_input": "2022-09-13T03:14:26.488867Z",
     "iopub.status.busy": "2022-09-13T03:14:26.488393Z",
     "iopub.status.idle": "2022-09-13T03:14:26.871730Z",
     "shell.execute_reply": "2022-09-13T03:14:26.870471Z",
     "shell.execute_reply.started": "2022-09-13T03:14:26.488831Z"
    }
   },
   "outputs": [],
   "source": [
    "import matplotlib.pyplot as plt\n",
    "import matplotlib\n",
    "\n",
    "fig, axs = plt.subplots(1, 2, figsize = (10,7))\n",
    "axs[0].plot(train['Pclass'], 'rv')\n",
    "axs[1].hist(train['Survived'])"
   ]
  },
  {
   "cell_type": "markdown",
   "metadata": {},
   "source": []
  },
  {
   "cell_type": "code",
   "execution_count": 25,
   "metadata": {
    "execution": {
     "iopub.execute_input": "2022-09-13T03:18:38.073891Z",
     "iopub.status.busy": "2022-09-13T03:18:38.073458Z",
     "iopub.status.idle": "2022-09-13T03:18:38.314618Z",
     "shell.execute_reply": "2022-09-13T03:18:38.313035Z",
     "shell.execute_reply.started": "2022-09-13T03:18:38.073856Z"
    }
   },
   "outputs": [],
   "source": [
    "plt.figure(figsize = (10,10))\n",
    "plt.plot(train['Parch'],\"bo\", ms=10)"
   ]
  },
  {
   "cell_type": "markdown",
   "metadata": {
    "execution": {
     "iopub.execute_input": "2022-09-13T03:19:09.418014Z",
     "iopub.status.busy": "2022-09-13T03:19:09.417551Z",
     "iopub.status.idle": "2022-09-13T03:19:09.426260Z",
     "shell.execute_reply": "2022-09-13T03:19:09.424503Z",
     "shell.execute_reply.started": "2022-09-13T03:19:09.417976Z"
    }
   },
   "source": [
    "* 대부분 홀로 배에 승선한 사람이 많다. "
   ]
  },
  {
   "cell_type": "markdown",
   "metadata": {},
   "source": []
  },
  {
   "cell_type": "code",
   "execution_count": 27,
   "metadata": {
    "execution": {
     "iopub.execute_input": "2022-09-13T03:21:29.774254Z",
     "iopub.status.busy": "2022-09-13T03:21:29.773784Z",
     "iopub.status.idle": "2022-09-13T03:21:29.782797Z",
     "shell.execute_reply": "2022-09-13T03:21:29.780905Z",
     "shell.execute_reply.started": "2022-09-13T03:21:29.774218Z"
    }
   },
   "outputs": [],
   "source": [
    "*반가워"
   ]
  },
  {
   "cell_type": "code",
   "execution_count": null,
   "metadata": {},
   "outputs": [],
   "source": []
  },
  {
   "cell_type": "code",
   "execution_count": null,
   "metadata": {},
   "outputs": [],
   "source": []
  }
 ],
 "metadata": {
  "kernelspec": {
   "display_name": "Python 3 (ipykernel)",
   "language": "python",
   "name": "python3"
  },
  "language_info": {
   "codemirror_mode": {
    "name": "ipython",
    "version": 3
   },
   "file_extension": ".py",
   "mimetype": "text/x-python",
   "name": "python",
   "nbconvert_exporter": "python",
   "pygments_lexer": "ipython3",
   "version": "3.9.12"
  }
 },
 "nbformat": 4,
 "nbformat_minor": 4
}
